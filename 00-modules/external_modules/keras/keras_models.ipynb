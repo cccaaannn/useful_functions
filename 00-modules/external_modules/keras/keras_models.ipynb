{
  "nbformat": 4,
  "nbformat_minor": 0,
  "metadata": {
    "colab": {
      "name": "keras_models",
      "provenance": [],
      "collapsed_sections": [],
      "authorship_tag": "ABX9TyPc6VqwSBszPIR01MiJyddT",
      "include_colab_link": true
    },
    "kernelspec": {
      "name": "python3",
      "display_name": "Python 3"
    }
  },
  "cells": [
    {
      "cell_type": "markdown",
      "metadata": {
        "id": "view-in-github",
        "colab_type": "text"
      },
      "source": [
        "<a href=\"https://colab.research.google.com/github/cccaaannn/useful_functions/blob/master/useful_functions/01-external_modules/keras/keras_models.ipynb\" target=\"_parent\"><img src=\"https://colab.research.google.com/assets/colab-badge.svg\" alt=\"Open In Colab\"/></a>"
      ]
    },
    {
      "cell_type": "markdown",
      "metadata": {
        "colab_type": "text",
        "id": "FNzLvaDh-jHv"
      },
      "source": [
        "simple dense"
      ]
    },
    {
      "cell_type": "code",
      "metadata": {
        "colab_type": "code",
        "id": "B7Ne2r-O-jQT",
        "colab": {}
      },
      "source": [
        "model = Sequential()\n",
        "model.add(Dense(2, activation='softmax', input_dim=2))"
      ],
      "execution_count": null,
      "outputs": []
    },
    {
      "cell_type": "markdown",
      "metadata": {
        "id": "j6cuRyVi_6A-",
        "colab_type": "text"
      },
      "source": [
        "simple cnn"
      ]
    },
    {
      "cell_type": "code",
      "metadata": {
        "id": "L_v6_lzn_nWU",
        "colab_type": "code",
        "colab": {}
      },
      "source": [
        "model = Sequential()\n",
        "model.add(Conv2D(16, (3,3), input_shape=x.shape[1:], activation='relu'))\n",
        "model.add(MaxPooling2D(pool_size=(2,2)))\n",
        "\n",
        "model.add(Conv2D(32, (3,3), activation='relu'))\n",
        "model.add(MaxPooling2D(pool_size=(2,2)))\n",
        "\n",
        "model.add(Flatten())\n",
        "model.add(Dense(1024, activation='relu')) \n",
        "model.add(Dense(2, activation='softmax'))"
      ],
      "execution_count": null,
      "outputs": []
    },
    {
      "cell_type": "markdown",
      "metadata": {
        "id": "kg0gIaC9-Wuc",
        "colab_type": "text"
      },
      "source": [
        "builtin models"
      ]
    },
    {
      "cell_type": "code",
      "metadata": {
        "id": "Xe9FlGmr-W4b",
        "colab_type": "code",
        "colab": {}
      },
      "source": [
        "base_model=DenseNet201(include_top=False)\n",
        "base_model=InceptionResNetV2(include_top=False)\n",
        "base_model=InceptionV3(include_top=False)\n",
        "base_model=DenseNet169(include_top=False)\n",
        "base_model=DenseNet121(include_top=False)\n",
        "base_model=ResNet152V2(include_top=False)\n",
        "base_model=Xception(include_top=False)\n",
        "base_model=VGG19(include_top=False)"
      ],
      "execution_count": null,
      "outputs": []
    },
    {
      "cell_type": "markdown",
      "metadata": {
        "id": "nMIihXBs-ft0",
        "colab_type": "text"
      },
      "source": [
        "last layer for builtin models"
      ]
    },
    {
      "cell_type": "code",
      "metadata": {
        "id": "Jd8FY2aq-gQr",
        "colab_type": "code",
        "colab": {}
      },
      "source": [
        "x=base_model.output\n",
        "x=GlobalAveragePooling2D()(x)\n",
        "preds=Dense(nr_classes,activation='softmax')(x)\n",
        "model=Model(inputs=base_model.input,outputs=preds)"
      ],
      "execution_count": null,
      "outputs": []
    },
    {
      "cell_type": "markdown",
      "metadata": {
        "id": "RRsa9QjnBUKw",
        "colab_type": "text"
      },
      "source": [
        "alexnet"
      ]
    },
    {
      "cell_type": "code",
      "metadata": {
        "id": "mwIYG40nBT9g",
        "colab_type": "code",
        "colab": {}
      },
      "source": [
        "model = Sequential()\n",
        "\n",
        "model.add(Conv2D(filters=96, input_shape=(224,224,3), kernel_size=(11,11), strides=(4,4), padding='valid'))\n",
        "model.add(Activation('relu'))\n",
        "model.add(MaxPooling2D(pool_size=(2,2), strides=(2,2), padding='valid'))\n",
        "model.add(BatchNormalization())\n",
        "\n",
        "model.add(Conv2D(filters=256, kernel_size=(11,11), strides=(1,1), padding='valid'))\n",
        "model.add(Activation('relu'))\n",
        "model.add(MaxPooling2D(pool_size=(2,2), strides=(2,2), padding='valid'))\n",
        "model.add(BatchNormalization())\n",
        "\n",
        "model.add(Conv2D(filters=384, kernel_size=(3,3), strides=(1,1), padding='valid'))\n",
        "model.add(Activation('relu'))\n",
        "model.add(BatchNormalization())\n",
        "\n",
        "model.add(Conv2D(filters=384, kernel_size=(3,3), strides=(1,1), padding='valid'))\n",
        "model.add(Activation('relu'))\n",
        "model.add(BatchNormalization())\n",
        "\n",
        "model.add(Conv2D(filters=256, kernel_size=(3,3), strides=(1,1), padding='valid'))\n",
        "model.add(Activation('relu'))\n",
        "model.add(MaxPooling2D(pool_size=(2,2), strides=(2,2), padding='valid'))\n",
        "model.add(BatchNormalization())\n",
        "\n",
        "model.add(Flatten())\n",
        "model.add(Dense(4096, input_shape=(224*224*3,)))\n",
        "model.add(Activation('relu'))\n",
        "model.add(Dropout(0.4))\n",
        "model.add(BatchNormalization())\n",
        "\n",
        "model.add(Dense(4096))\n",
        "model.add(Activation('relu'))\n",
        "model.add(Dropout(0.4))\n",
        "model.add(BatchNormalization())\n",
        "\n",
        "model.add(Dense(1000))\n",
        "model.add(Activation('relu'))\n",
        "model.add(Dropout(0.4))\n",
        "model.add(BatchNormalization())\n",
        "\n",
        "model.add(Dense(nr_classes))\n",
        "model.add(Activation('softmax'))"
      ],
      "execution_count": null,
      "outputs": []
    },
    {
      "cell_type": "markdown",
      "metadata": {
        "id": "t0yZN6ZTBVXL",
        "colab_type": "text"
      },
      "source": [
        "vgg16"
      ]
    },
    {
      "cell_type": "code",
      "metadata": {
        "id": "gnSVCWLQBWQg",
        "colab_type": "code",
        "colab": {}
      },
      "source": [
        "model = Sequential()\n",
        "\n",
        "model.add(ZeroPadding2D((1,1),input_shape=x.shape[1:]))\n",
        "model.add(Convolution2D(64, 3, 3, activation='relu'))\n",
        "model.add(ZeroPadding2D((1,1)))\n",
        "model.add(Convolution2D(64, 3, 3, activation='relu'))\n",
        "model.add(MaxPooling2D((2,2), strides=(2,2)))\n",
        "\n",
        "model.add(ZeroPadding2D((1,1)))\n",
        "model.add(Convolution2D(128, 3, 3, activation='relu'))\n",
        "model.add(ZeroPadding2D((1,1)))\n",
        "model.add(Convolution2D(128, 3, 3, activation='relu'))\n",
        "model.add(MaxPooling2D((2,2), strides=(2,2)))\n",
        "\n",
        "model.add(ZeroPadding2D((1,1)))\n",
        "model.add(Convolution2D(256, 3, 3, activation='relu'))\n",
        "model.add(ZeroPadding2D((1,1)))\n",
        "model.add(Convolution2D(256, 3, 3, activation='relu'))\n",
        "model.add(ZeroPadding2D((1,1)))\n",
        "model.add(Convolution2D(256, 3, 3, activation='relu'))\n",
        "model.add(MaxPooling2D((2,2), strides=(2,2)))\n",
        "\n",
        "model.add(ZeroPadding2D((1,1)))\n",
        "model.add(Convolution2D(512, 3, 3, activation='relu'))\n",
        "model.add(ZeroPadding2D((1,1)))\n",
        "model.add(Convolution2D(512, 3, 3, activation='relu'))\n",
        "model.add(ZeroPadding2D((1,1)))\n",
        "model.add(Convolution2D(512, 3, 3, activation='relu'))\n",
        "model.add(MaxPooling2D((2,2), strides=(2,2)))\n",
        "\n",
        "model.add(ZeroPadding2D((1,1)))\n",
        "model.add(Convolution2D(512, 3, 3, activation='relu'))\n",
        "model.add(ZeroPadding2D((1,1)))\n",
        "model.add(Convolution2D(512, 3, 3, activation='relu'))\n",
        "model.add(ZeroPadding2D((1,1)))\n",
        "model.add(Convolution2D(512, 3, 3, activation='relu'))\n",
        "model.add(MaxPooling2D((2,2), strides=(2,2)))\n",
        "\n",
        "model.add(Flatten())\n",
        "model.add(Dense(4096, activation='relu'))\n",
        "model.add(Dropout(0.5))\n",
        "model.add(Dense(4096, activation='relu'))\n",
        "model.add(Dropout(0.5))\n",
        "model.add(Dense(3, activation='softmax'))"
      ],
      "execution_count": null,
      "outputs": []
    },
    {
      "cell_type": "markdown",
      "metadata": {
        "id": "fFilI4u0BjW2",
        "colab_type": "text"
      },
      "source": [
        "vgg19"
      ]
    },
    {
      "cell_type": "code",
      "metadata": {
        "id": "44zXtc6pBkIF",
        "colab_type": "code",
        "colab": {}
      },
      "source": [
        "model = Sequential()\n",
        "\n",
        "model.add(ZeroPadding2D((1,1),input_shape=(224,224,3)))\n",
        "model.add(Conv2D(64, (3, 3), activation='relu',padding=\"same\"))\n",
        "model.add(Conv2D(64, (3, 3,), activation='relu',padding=\"same\"))\n",
        "model.add(MaxPooling2D((2,2), strides=(2,2)))\n",
        "\n",
        "model.add(Conv2D(128,( 3, 3), activation='relu',padding=\"same\"))\n",
        "model.add(Conv2D(128,( 3, 3), activation='relu',padding=\"same\"))\n",
        "model.add(MaxPooling2D((2,2), strides=(2,2)))\n",
        "\n",
        "model.add(Conv2D(256,( 3, 3), activation='relu',padding=\"same\"))\n",
        "model.add(Conv2D(256,( 3, 3), activation='relu',padding=\"same\"))\n",
        "model.add(Conv2D(256,( 3, 3), activation='relu',padding=\"same\"))\n",
        "model.add(Conv2D(256,( 3, 3), activation='relu',padding=\"same\"))\n",
        "model.add(MaxPooling2D((2,2), strides=(2,2)))\n",
        "\n",
        "model.add(Conv2D(512,( 3, 3), activation='relu',padding=\"same\"))\n",
        "model.add(Conv2D(512,( 3, 3), activation='relu',padding=\"same\"))\n",
        "model.add(Conv2D(512,( 3, 3), activation='relu',padding=\"same\"))\n",
        "model.add(Conv2D(512,( 3, 3), activation='relu',padding=\"same\"))\n",
        "model.add(MaxPooling2D((2,2), strides=(2,2)))\n",
        "\n",
        "model.add(Conv2D(512,( 3, 3), activation='relu',padding=\"same\"))\n",
        "model.add(Conv2D(512,( 3, 3), activation='relu',padding=\"same\"))\n",
        "model.add(Conv2D(512,( 3, 3), activation='relu',padding=\"same\"))\n",
        "model.add(Conv2D(512,( 3, 3), activation='relu',padding=\"same\"))\n",
        "model.add(MaxPooling2D((2,2), strides=(2,2)))\n",
        "\n",
        "model.add(Flatten())\n",
        "model.add(Dense(1024, activation='relu'))\n",
        "model.add(Dropout(0.3))\n",
        "model.add(Dense(1024, activation='relu'))\n",
        "model.add(Dropout(0.3))\n",
        "model.add(Dense(3, activation='softmax'))"
      ],
      "execution_count": null,
      "outputs": []
    },
    {
      "cell_type": "markdown",
      "metadata": {
        "id": "cKgDoiKfBmOY",
        "colab_type": "text"
      },
      "source": [
        "keras functional api"
      ]
    },
    {
      "cell_type": "code",
      "metadata": {
        "id": "AIKpggXXCWEh",
        "colab_type": "code",
        "colab": {}
      },
      "source": [
        "# imports\n",
        "from keras.utils import plot_model\n",
        "from keras.models import Model\n",
        "from keras.layers import Input\n",
        "from keras.layers import Dense\n",
        "from keras.layers import Flatten\n",
        "from keras.layers.convolutional import Conv2D\n",
        "from keras.layers.pooling import MaxPooling2D\n",
        "from keras.layers.merge import concatenate\n",
        "\n",
        "\n",
        "# input layer\n",
        "visible = Input(shape=(28,28,1))\n",
        "\n",
        "# first feature extractor\n",
        "conv1 = Conv2D(32, kernel_size=4, activation='relu')(visible)\n",
        "pool1 = MaxPooling2D(pool_size=(2, 2))(conv1)\n",
        "flat1 = Flatten()(pool1)\n",
        "\n",
        "# second feature extractor\n",
        "conv2 = Conv2D(16, kernel_size=8, activation='relu')(visible)\n",
        "pool2 = MaxPooling2D(pool_size=(2, 2))(conv2)\n",
        "flat2 = Flatten()(pool2)\n",
        "\n",
        "# merge feature extractors\n",
        "merge = concatenate([flat1, flat2])\n",
        "\n",
        "# interpretation layer\n",
        "hidden1 = Dense(10, activation='relu')(merge)\n",
        "\n",
        "# prediction output\n",
        "output = Dense(2, activation='sigmoid')(hidden1)\n",
        "\n",
        "# build model\n",
        "model = Model(inputs=visible, outputs=output)\n",
        "\n",
        "model.summary()"
      ],
      "execution_count": null,
      "outputs": []
    }
  ]
}