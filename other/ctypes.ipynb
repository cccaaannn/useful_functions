{
  "nbformat": 4,
  "nbformat_minor": 0,
  "metadata": {
    "colab": {
      "name": "ctypes",
      "provenance": [],
      "collapsed_sections": [],
      "authorship_tag": "ABX9TyOPZyAsA9F0r+XQVTCEfUdW",
      "include_colab_link": true
    },
    "kernelspec": {
      "name": "python3",
      "display_name": "Python 3"
    }
  },
  "cells": [
    {
      "cell_type": "markdown",
      "metadata": {
        "id": "view-in-github",
        "colab_type": "text"
      },
      "source": [
        "<a href=\"https://colab.research.google.com/github/cccaaannn/useful_functions/blob/master/ctypes.ipynb\" target=\"_parent\"><img src=\"https://colab.research.google.com/assets/colab-badge.svg\" alt=\"Open In Colab\"/></a>"
      ]
    },
    {
      "cell_type": "markdown",
      "metadata": {
        "id": "mZk61WMkU1PZ",
        "colab_type": "text"
      },
      "source": [
        "execution timer"
      ]
    },
    {
      "cell_type": "code",
      "metadata": {
        "id": "n2lI1pTaUyx7",
        "colab_type": "code",
        "colab": {}
      },
      "source": [
        "!pip install ipython-autotime\n",
        "%load_ext autotime"
      ],
      "execution_count": 0,
      "outputs": []
    },
    {
      "cell_type": "markdown",
      "metadata": {
        "id": "xuqS94WnZDTt",
        "colab_type": "text"
      },
      "source": [
        "python verison"
      ]
    },
    {
      "cell_type": "code",
      "metadata": {
        "id": "paf_-CP1U6Xz",
        "colab_type": "code",
        "colab": {}
      },
      "source": [
        "def is_prime(num):\n",
        "    if(num == 0 or num == 1):\n",
        "        return 0\n",
        "    for i in range(num-1, 0, -1):\n",
        "        if(num % i == 0):\n",
        "            return 0\n",
        "    return 1"
      ],
      "execution_count": 0,
      "outputs": []
    },
    {
      "cell_type": "markdown",
      "metadata": {
        "id": "JBMMhrX1ZKRn",
        "colab_type": "text"
      },
      "source": [
        "c version"
      ]
    },
    {
      "cell_type": "code",
      "metadata": {
        "id": "J5rVsdtoY8Zf",
        "colab_type": "code",
        "colab": {}
      },
      "source": [
        "to_write = \"\"\"\n",
        "int is_prime(int num) {\n",
        "    if(num == 0 || num == 1){\n",
        "        return 0;\n",
        "    }\n",
        "    for (int i = num-1; i > 1; i--){\n",
        "        if(num % i == 0){\n",
        "            return 0;\n",
        "        }\n",
        "    }\n",
        "    return 1;\n",
        "}\n",
        "\"\"\""
      ],
      "execution_count": 0,
      "outputs": []
    },
    {
      "cell_type": "markdown",
      "metadata": {
        "id": "T2AuQXMTYtzm",
        "colab_type": "text"
      },
      "source": [
        "write c code to file"
      ]
    },
    {
      "cell_type": "code",
      "metadata": {
        "id": "5orMAW61SgBS",
        "colab_type": "code",
        "colab": {}
      },
      "source": [
        "def write_to_file(to_write, file_name=\"lib.c\", write_mode=\"w\"):\n",
        "    with open(file_name,write_mode, encoding='utf-8') as file:\n",
        "            file.write(to_write)\n",
        "\n",
        "write_to_file(to_write)\n",
        "!cat lib.c"
      ],
      "execution_count": 0,
      "outputs": []
    },
    {
      "cell_type": "markdown",
      "metadata": {
        "id": "OOqx8lddYlMj",
        "colab_type": "text"
      },
      "source": [
        "compile c file as .so lib"
      ]
    },
    {
      "cell_type": "code",
      "metadata": {
        "id": "c8fqm8RRMToo",
        "colab_type": "code",
        "colab": {}
      },
      "source": [
        "!cc -fPIC -shared -o lib.so lib.c"
      ],
      "execution_count": 0,
      "outputs": []
    },
    {
      "cell_type": "markdown",
      "metadata": {
        "id": "7oIaiesGZc8K",
        "colab_type": "text"
      },
      "source": [
        "test on python"
      ]
    },
    {
      "cell_type": "code",
      "metadata": {
        "id": "6Y7xH2WDWCZ6",
        "colab_type": "code",
        "colab": {
          "base_uri": "https://localhost:8080/",
          "height": 50
        },
        "outputId": "8b9dd23b-927b-437c-b689-9b73055673e2"
      },
      "source": [
        "value = is_prime(100000000)  \n",
        "print(value)"
      ],
      "execution_count": 65,
      "outputs": [
        {
          "output_type": "stream",
          "text": [
            "0\n",
            "time: 3.27 s\n"
          ],
          "name": "stdout"
        }
      ]
    },
    {
      "cell_type": "markdown",
      "metadata": {
        "id": "pTHn5H52Zbh9",
        "colab_type": "text"
      },
      "source": [
        "test on c"
      ]
    },
    {
      "cell_type": "code",
      "metadata": {
        "id": "P8A-yi-lN94v",
        "colab_type": "code",
        "colab": {
          "base_uri": "https://localhost:8080/",
          "height": 50
        },
        "outputId": "ea370b8c-168f-4995-835b-d2c9e87d1c43"
      },
      "source": [
        "import ctypes         \n",
        "lib = ctypes.CDLL(\"/content/lib.so\")   \n",
        "\n",
        "value = lib.is_prime(100000000)  \n",
        "print(value)"
      ],
      "execution_count": 66,
      "outputs": [
        {
          "output_type": "stream",
          "text": [
            "0\n",
            "time: 185 ms\n"
          ],
          "name": "stdout"
        }
      ]
    }
  ]
}